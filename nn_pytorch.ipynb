{
 "cells": [
  {
   "cell_type": "markdown",
   "metadata": {},
   "source": [
    "# Redes Neuronales en PyTorch para regresión\nEste notebook entrena una red neuronal sencilla para predecir el precio medio de las casas en California utilizando la base de datos [CaliforniaHousing](CaliforniaHousing)."
   ]
  },
  {
   "cell_type": "code",
   "metadata": {},
   "execution_count": null,
   "outputs": [],
   "source": [
    "import numpy as np\n",
    "import torch\n",
    "from torch import nn\n",
    "from torch.utils.data import TensorDataset, DataLoader\n"
   ]
  },
  {
   "cell_type": "markdown",
   "metadata": {},
   "source": [
    "## Carga y preparación de datos"
   ]
  },
  {
   "cell_type": "code",
   "metadata": {},
   "execution_count": null,
   "outputs": [],
   "source": [
    "data_path = 'CaliforniaHousing/cal_housing.data'\n",
    "data = np.loadtxt(data_path, delimiter=',')\n",
    "X = data[:, :-1]\n",
    "y = data[:, -1:]\n",
    "# División entrenamiento/prueba\n",
    "rng = np.random.default_rng(42)\n",
    "indices = rng.permutation(len(X))\n",
    "split = int(len(X) * 0.8)\n",
    "train_idx, test_idx = indices[:split], indices[split:]\n",
    "X_train, X_test = X[train_idx], X[test_idx]\n",
    "y_train, y_test = y[train_idx], y[test_idx]\n",
    "# Estandarización\n",
    "X_mean, X_std = X_train.mean(axis=0), X_train.std(axis=0)\n",
    "y_mean, y_std = y_train.mean(axis=0), y_train.std(axis=0)\n",
    "X_train = (X_train - X_mean) / X_std\n",
    "X_test = (X_test - X_mean) / X_std\n",
    "y_train = (y_train - y_mean) / y_std\n",
    "y_test = (y_test - y_mean) / y_std\n",
    "# Tensores y DataLoader\n",
    "tensor_X_train = torch.tensor(X_train, dtype=torch.float32)\n",
    "tensor_y_train = torch.tensor(y_train, dtype=torch.float32)\n",
    "tensor_X_test = torch.tensor(X_test, dtype=torch.float32)\n",
    "tensor_y_test = torch.tensor(y_test, dtype=torch.float32)\n",
    "train_dataset = TensorDataset(tensor_X_train, tensor_y_train)\n",
    "train_loader = DataLoader(train_dataset, batch_size=64, shuffle=True)\n"
   ]
  },
  {
   "cell_type": "markdown",
   "metadata": {},
   "source": [
    "## Definición del modelo"
   ]
  },
  {
   "cell_type": "code",
   "metadata": {},
   "execution_count": null,
   "outputs": [],
   "source": [
    "model = nn.Sequential(\n",
    "    nn.Linear(X_train.shape[1], 64),\n",
    "    nn.ReLU(),\n",
    "    nn.Linear(64, 32),\n",
    "    nn.ReLU(),\n",
    "    nn.Linear(32, 1)\n",
    ")\n",
    "criterion = nn.MSELoss()\n",
    "optimizer = torch.optim.Adam(model.parameters(), lr=0.001)\n"
   ]
  },
  {
   "cell_type": "markdown",
   "metadata": {},
   "source": [
    "## Entrenamiento"
   ]
  },
  {
   "cell_type": "code",
   "metadata": {},
   "execution_count": null,
   "outputs": [],
   "source": [
    "n_epochs = 20\n",
    "losses = []\n",
    "for epoch in range(n_epochs):\n",
    "    running_loss = 0.0\n",
    "    for batch_X, batch_y in train_loader:\n",
    "        optimizer.zero_grad()\n",
    "        outputs = model(batch_X)\n",
    "        loss = criterion(outputs, batch_y)\n",
    "        loss.backward()\n",
    "        optimizer.step()\n",
    "        running_loss += loss.item()\n",
    "    avg_loss = running_loss / len(train_loader)\n",
    "    losses.append(avg_loss)\n",
    "    if (epoch+1) % 5 == 0:\n",
    "        print(f'Epoch {epoch+1}/{n_epochs}, Loss: {avg_loss:.4f}')\n"
   ]
  },
  {
   "cell_type": "markdown",
   "metadata": {},
   "source": [
    "## Evaluación"
   ]
  },
  {
   "cell_type": "code",
   "metadata": {},
   "execution_count": null,
   "outputs": [],
   "source": [
    "model.eval()\n",
    "with torch.no_grad():\n",
    "    preds = model(tensor_X_test)\n",
    "    mse = criterion(preds, tensor_y_test).item()\n",
    "    preds_orig = preds.numpy() * y_std + y_mean\n",
    "    y_test_orig = tensor_y_test.numpy() * y_std + y_mean\n",
    "    rmse = ((preds_orig - y_test_orig) ** 2).mean() ** 0.5\n",
    "print(f'Final Test MSE (scaled): {mse:.4f}')\n",
    "print(f'Final Test RMSE: {rmse:.2f}')\n"
   ]
  }
 ],
 "metadata": {
  "kernelspec": {
   "display_name": "Python 3",
   "language": "python",
   "name": "python3"
  },
  "language_info": {
   "name": "python",
   "version": "3.10"
  }
 },
 "nbformat": 4,
 "nbformat_minor": 5
}